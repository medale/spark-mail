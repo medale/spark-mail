{
 "cells": [
  {
   "cell_type": "markdown",
   "metadata": {},
   "source": [
    "# Apache Spark Through Email - where, Column methods, functions"
   ]
  },
  {
   "cell_type": "code",
   "execution_count": 1,
   "metadata": {},
   "outputs": [
    {
     "data": {
      "text/plain": [
       "Waiting for a Spark session to start..."
      ]
     },
     "metadata": {},
     "output_type": "display_data"
    },
    {
     "data": {
      "text/plain": [
       "records = [uuid: string, from: string ... 8 more fields]\n"
      ]
     },
     "metadata": {},
     "output_type": "display_data"
    },
    {
     "data": {
      "text/plain": [
       "191926"
      ]
     },
     "execution_count": 1,
     "metadata": {},
     "output_type": "execute_result"
    }
   ],
   "source": [
    "val homeDir = scala.sys.props(\"user.home\")\n",
    "val records = spark.read.parquet(s\"$homeDir/datasets/enron/enron-small.parquet\")\n",
    "records.cache\n",
    "records.count"
   ]
  },
  {
   "cell_type": "markdown",
   "metadata": {},
   "source": [
    "## Finding old records - where clause"
   ]
  },
  {
   "cell_type": "code",
   "execution_count": 2,
   "metadata": {},
   "outputs": [
    {
     "data": {
      "text/plain": [
       "oldCutoff = 1980-01-01T00:00Z[UTC]\n",
       "oldCutoffInMillis = 315532800000\n"
      ]
     },
     "metadata": {},
     "output_type": "display_data"
    },
    {
     "data": {
      "text/plain": [
       "315532800000"
      ]
     },
     "execution_count": 2,
     "metadata": {},
     "output_type": "execute_result"
    }
   ],
   "source": [
    "import java.time._\n",
    "\n",
    "val oldCutoff = ZonedDateTime.of(1980, 1, 1, 0, 0, 0, 0, ZoneId.of(\"UTC\"))\n",
    "val oldCutoffInMillis = oldCutoff.toInstant.toEpochMilli"
   ]
  },
  {
   "cell_type": "code",
   "execution_count": 3,
   "metadata": {},
   "outputs": [
    {
     "name": "stdout",
     "output_type": "stream",
     "text": [
      "root\n",
      " |-- uuid: string (nullable = true)\n",
      " |-- dateString: string (nullable = true)\n",
      "\n"
     ]
    },
    {
     "data": {
      "text/plain": [
       "oldRecords = [uuid: string, dateString: string]\n"
      ]
     },
     "metadata": {},
     "output_type": "display_data"
    },
    {
     "data": {
      "text/plain": [
       "[uuid: string, dateString: string]"
      ]
     },
     "execution_count": 3,
     "metadata": {},
     "output_type": "execute_result"
    }
   ],
   "source": [
    "// https://spark.apache.org/docs/latest/api/scala/index.html#org.apache.spark.sql.functions$\n",
    "// https://spark.apache.org/docs/latest/api/scala/index.html#org.apache.spark.sql.Column\n",
    "import org.apache.spark.sql.functions.from_unixtime\n",
    "\n",
    "// Column \"dateUtcEpoch\" - also $\"dateUtcEpoch\"\n",
    "// all chained transformations\n",
    "val oldRecords = records.where(records(\"dateUtcEpoch\") < oldCutoffInMillis).\n",
    "    select(\"uuid\",\"dateUtcEpoch\").\n",
    "    withColumn(\"dateString\", from_unixtime($\"dateUtcEpoch\" / 1000)).\n",
    "    orderBy(\"dateUtcEpoch\").\n",
    "    select(\"uuid\",\"dateString\")\n",
    "\n",
    "oldRecords.printSchema"
   ]
  },
  {
   "cell_type": "code",
   "execution_count": 4,
   "metadata": {},
   "outputs": [
    {
     "name": "stdout",
     "output_type": "stream",
     "text": [
      "82\n",
      "+------------------------------------+-------------------+\n",
      "|uuid                                |dateString         |\n",
      "+------------------------------------+-------------------+\n",
      "|cc8c5d69-1687-4b32-9574-ae377bfad731|0001-08-13 08:06:06|\n",
      "|886a9df5-13b3-4538-b70e-a30b1b1c1493|0001-08-20 08:11:21|\n",
      "|cb3a8063-6e65-497d-aa72-6f2d26f96705|0001-08-22 08:05:53|\n",
      "|cfc06550-9038-42ec-9bfd-ab6a74809350|0001-08-28 17:20:02|\n",
      "|cfb7394d-69b5-414e-84bb-145909446884|0001-08-29 08:07:37|\n",
      "|24b84513-2b3c-463f-b4e1-9da26db23434|0001-08-30 17:20:19|\n",
      "|fdda2ad9-7a6e-4814-872d-3ac06b2a0bc2|0001-09-04 08:07:45|\n",
      "|67e5207f-3fab-4f00-9dc2-7d3d1bc2b216|0001-09-04 08:08:57|\n",
      "|4d041254-577b-4c90-afa6-dd16a41110b7|0001-09-04 18:30:08|\n",
      "|6cceee88-d17c-4906-9aa0-c62b494d5d27|0001-09-05 08:05:39|\n",
      "+------------------------------------+-------------------+\n",
      "only showing top 10 rows\n",
      "\n"
     ]
    }
   ],
   "source": [
    "// action - execute all transformations applied to oldRecords\n",
    "println(oldRecords.count)\n",
    "\n",
    "oldRecords.show(numRows = 10, truncate=false)"
   ]
  },
  {
   "cell_type": "markdown",
   "metadata": {},
   "source": [
    "## Grouping records by year - withColumn, Column / and cast"
   ]
  },
  {
   "cell_type": "code",
   "execution_count": 5,
   "metadata": {},
   "outputs": [
    {
     "data": {
      "text/plain": [
       "yearsWithCounts = Array([1,71], [2,11], [1980,276], [1997,436], [1998,3], [1999,2998], [2000,80375], [2001,100143], [2002,7602], [2004,5], [2005,1], [2007,1], [2012,2], [2020,2])\n"
      ]
     },
     "metadata": {},
     "output_type": "display_data"
    },
    {
     "data": {
      "text/plain": [
       "Array([1,71], [2,11], [1980,276], [1997,436], [1998,3], [1999,2998], [2000,80375], [2001,100143], [2002,7602], [2004,5], [2005,1], [2007,1], [2012,2], [2020,2])"
      ]
     },
     "execution_count": 5,
     "metadata": {},
     "output_type": "execute_result"
    }
   ],
   "source": [
    "import org.apache.spark.sql.functions._\n",
    "import org.apache.spark.sql.types.TimestampType\n",
    "val yearsWithCounts = records.withColumn(\"dateTs\", ($\"dateUtcEpoch\" / 1000).cast(TimestampType)).\n",
    "   withColumn(\"year\", year($\"dateTs\")).\n",
    "   groupBy(\"year\").count.\n",
    "   orderBy(\"year\").\n",
    "   collect"
   ]
  },
  {
   "cell_type": "code",
   "execution_count": 6,
   "metadata": {},
   "outputs": [
    {
     "name": "stdout",
     "output_type": "stream",
     "text": [
      "Marking org.vegas-viz:vegas_2.11:0.3.11 for download\n",
      "Obtained 42 files\n"
     ]
    }
   ],
   "source": [
    "%AddDeps org.vegas-viz vegas_2.11 0.3.11 --transitive"
   ]
  },
  {
   "cell_type": "code",
   "execution_count": 7,
   "metadata": {},
   "outputs": [
    {
     "data": {
      "text/html": [
       "\n",
       "  <iframe id=\"frame-vegas-62b40dee-79f1-4cf8-bbe1-6521023a5614\" sandbox=\"allow-scripts allow-same-origin\" style=\"border: none; width: 100%\" srcdoc=\"&lt;html&gt;\n",
       "  &lt;head&gt;\n",
       "    &lt;script src=&quot;https://cdn.jsdelivr.net/webjars/org.webjars.bower/d3/3.5.17/d3.min.js&quot; charset=&quot;utf-8&quot;&gt;&lt;/script&gt;\n",
       "&lt;script src=&quot;https://cdn.jsdelivr.net/webjars/org.webjars.bower/vega/2.6.3/vega.min.js&quot; charset=&quot;utf-8&quot;&gt;&lt;/script&gt;\n",
       "&lt;script src=&quot;https://cdn.jsdelivr.net/webjars/org.webjars.bower/vega-lite/1.2.0/vega-lite.min.js&quot; charset=&quot;utf-8&quot;&gt;&lt;/script&gt;\n",
       "&lt;script src=&quot;https://vega.github.io/vega-editor/vendor/vega-embed.js&quot; charset=&quot;utf-8&quot;&gt;&lt;/script&gt;\n",
       "  &lt;/head&gt;\n",
       "  &lt;body&gt;\n",
       " &lt;div id='vegas-62b40dee-79f1-4cf8-bbe1-6521023a5614'&gt;&lt;/div&gt;\n",
       " &lt;script&gt;\n",
       "   var embedSpec = {\n",
       "     mode: &quot;vega-lite&quot;,\n",
       "     spec: {\n",
       "  &quot;mark&quot; : &quot;bar&quot;,\n",
       "  &quot;encoding&quot; : {\n",
       "    &quot;x&quot; : {\n",
       "      &quot;field&quot; : &quot;year&quot;,\n",
       "      &quot;type&quot; : &quot;nominal&quot;\n",
       "    },\n",
       "    &quot;y&quot; : {\n",
       "      &quot;field&quot; : &quot;count&quot;,\n",
       "      &quot;type&quot; : &quot;quantitative&quot;\n",
       "    }\n",
       "  },\n",
       "  &quot;description&quot; : &quot;Year Distribution&quot;,\n",
       "  &quot;data&quot; : {\n",
       "    &quot;values&quot; : [\n",
       "      {\n",
       "        &quot;year&quot; : 1,\n",
       "        &quot;count&quot; : 71\n",
       "      },\n",
       "      {\n",
       "        &quot;year&quot; : 2,\n",
       "        &quot;count&quot; : 11\n",
       "      },\n",
       "      {\n",
       "        &quot;year&quot; : 1980,\n",
       "        &quot;count&quot; : 276\n",
       "      },\n",
       "      {\n",
       "        &quot;year&quot; : 1997,\n",
       "        &quot;count&quot; : 436\n",
       "      },\n",
       "      {\n",
       "        &quot;year&quot; : 1998,\n",
       "        &quot;count&quot; : 3\n",
       "      },\n",
       "      {\n",
       "        &quot;year&quot; : 1999,\n",
       "        &quot;count&quot; : 2998\n",
       "      },\n",
       "      {\n",
       "        &quot;year&quot; : 2000,\n",
       "        &quot;count&quot; : 80375\n",
       "      },\n",
       "      {\n",
       "        &quot;year&quot; : 2001,\n",
       "        &quot;count&quot; : 100143\n",
       "      },\n",
       "      {\n",
       "        &quot;year&quot; : 2002,\n",
       "        &quot;count&quot; : 7602\n",
       "      },\n",
       "      {\n",
       "        &quot;year&quot; : 2004,\n",
       "        &quot;count&quot; : 5\n",
       "      },\n",
       "      {\n",
       "        &quot;year&quot; : 2005,\n",
       "        &quot;count&quot; : 1\n",
       "      },\n",
       "      {\n",
       "        &quot;year&quot; : 2007,\n",
       "        &quot;count&quot; : 1\n",
       "      },\n",
       "      {\n",
       "        &quot;year&quot; : 2012,\n",
       "        &quot;count&quot; : 2\n",
       "      },\n",
       "      {\n",
       "        &quot;year&quot; : 2020,\n",
       "        &quot;count&quot; : 2\n",
       "      }\n",
       "    ]\n",
       "  }\n",
       "}\n",
       "   }\n",
       "   vg.embed(&quot;#vegas-62b40dee-79f1-4cf8-bbe1-6521023a5614&quot;, embedSpec, function(error, result) {});\n",
       " &lt;/script&gt;\n",
       "\n",
       "    &lt;/body&gt;\n",
       "&lt;/html&gt;\"></iframe>\n",
       "  <script>\n",
       "    (function() {\n",
       "      function resizeIFrame(el, k) {\n",
       "        var height = el.contentWindow.document.body.scrollHeight || '400'; // Fallback in case of no scroll height\n",
       "        el.style.height = height + 'px';\n",
       "        if (k <= 10) { setTimeout(function() { resizeIFrame(el, k+1) }, 1000 + (k * 250)) };\n",
       "      }\n",
       "      resizeIFrame(document.querySelector('#frame-vegas-62b40dee-79f1-4cf8-bbe1-6521023a5614'), 1);\n",
       "    })(); // IIFE\n",
       "  </script>\n",
       "    "
      ]
     },
     "metadata": {},
     "output_type": "display_data"
    },
    {
     "data": {
      "text/plain": [
       "yearsWithCountMaps = Array(Map(year -> 1, count -> 71), Map(year -> 2, count -> 11), Map(year -> 1980, count -> 276), Map(year -> 1997, count -> 436), Map(year -> 1998, count -> 3), Map(year -> 1999, count -> 2998), Map(year -> 2000, count -> 80375), Map(year -> 2001, count -> 100143), Map(year -> 2002, count -> 7602), Map(year -> 2004, count -> 5), Map(year -> 2005, count -> 1), Map(year -> 2007, count -> 1), Map(year -> 2012, count -> 2), Map(year -> 2020, count -> 2))\n",
       "plot = ExtendedUnitSpecBuilder(ExtendedUnitSpec(None,None,Bar,Some(Encoding(None,None,Some(PositionChannelDef(None,None,None,Some(year),Some(Nominal),None,None,None,None,None)),Som...\n"
      ]
     },
     "metadata": {},
     "output_type": "display_data"
    },
    {
     "data": {
      "text/plain": [
       "ExtendedUnitSpecBuilder(ExtendedUnitSpec(None,None,Bar,Some(Encoding(None,None,Some(PositionChannelDef(None,None,None,Some(year),Some(Nominal),None,None,None,None,None)),Som..."
      ]
     },
     "execution_count": 7,
     "metadata": {},
     "output_type": "execute_result"
    }
   ],
   "source": [
    "import vegas._\n",
    "import vegas.render.WindowRenderer._\n",
    "\n",
    "val yearsWithCountMaps = yearsWithCounts.map {r =>\n",
    "    val year = r.getInt(0)\n",
    "    val count = r.getLong(1)\n",
    "    Map(\"year\" -> year, \"count\" -> count)\n",
    "}\n",
    "val plot = Vegas(\"Year Distribution\").\n",
    "  withData(\n",
    "    yearsWithCountMaps\n",
    "  ).\n",
    "  encodeX(\"year\", Nom).\n",
    "  encodeY(\"count\", Quant).\n",
    "  mark(Bar)\n",
    "\n",
    "plot.show"
   ]
  },
  {
   "cell_type": "code",
   "execution_count": 8,
   "metadata": {},
   "outputs": [],
   "source": [
    "spark.close"
   ]
  },
  {
   "cell_type": "code",
   "execution_count": null,
   "metadata": {},
   "outputs": [],
   "source": []
  }
 ],
 "metadata": {
  "kernelspec": {
   "display_name": "Apache Toree - Scala",
   "language": "scala",
   "name": "apache_toree_scala"
  },
  "language_info": {
   "codemirror_mode": "text/x-scala",
   "file_extension": ".scala",
   "mimetype": "text/x-scala",
   "name": "scala",
   "pygments_lexer": "scala",
   "version": "2.11.12"
  }
 },
 "nbformat": 4,
 "nbformat_minor": 2
}
